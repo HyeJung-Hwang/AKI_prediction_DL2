{
 "cells": [
  {
   "cell_type": "code",
   "execution_count": 3,
   "id": "40b1db89",
   "metadata": {},
   "outputs": [],
   "source": [
    "from torch.autograd import Variable\n",
    "import time\n",
    "import copy\n",
    "import torch\n",
    "from torch import Tensor\n",
    "import glob\n",
    "import math\n",
    "import torch.nn as nn\n",
    "import torch.nn.functional as F\n",
    "import torch.optim as optim\n",
    "import time\n",
    "import numpy as np\n",
    "import pandas as pd\n",
    "import os\n",
    "from sklearn.model_selection import train_test_split\n",
    "from torch.utils.data import Dataset,DataLoader"
   ]
  },
  {
   "cell_type": "code",
   "execution_count": 4,
   "id": "eccf0ea9",
   "metadata": {},
   "outputs": [],
   "source": [
    "import matplotlib.pyplot as plt"
   ]
  },
  {
   "cell_type": "code",
   "execution_count": 5,
   "id": "40965c0c",
   "metadata": {},
   "outputs": [],
   "source": [
    "class ECGDataset(Dataset):\n",
    "    def __init__(\n",
    "            self,\n",
    "            npy_dir: os.PathLike,\n",
    "            label_df : pd.DataFrame\n",
    "    )-> None:\n",
    "        self.npy_dir = npy_dir\n",
    "        self.df = label_df\n",
    "\n",
    "    def __len__(self):\n",
    "        return self.df.shape[0]\n",
    "\n",
    "    def __getitem__(self,index):\n",
    "        file_name = self.df.iloc[index,0] \n",
    "   \n",
    "        ecg_npy = np.load(os.path.join(self.npy_dir, file_name))\n",
    "        ecg_tensor = torch.from_numpy(ecg_npy).float()\n",
    "        \n",
    "        return ecg_tensor , ecg_tensor\n",
    "def load_data(train_npy_path,train_csv_path):\n",
    "    total_df = pd.read_csv(train_csv_path, index_col=0)\n",
    "    train_df, valid_df = train_test_split(total_df,test_size = 0.2, random_state = 42)\n",
    "    \n",
    "    train_set = ECGDataset(train_npy_path, train_df)\n",
    "    valid_set = ECGDataset(train_npy_path, valid_df)\n",
    "    train_loader = DataLoader(train_set, batch_size=32, shuffle=True, num_workers=0)\n",
    "    valid_loader =   DataLoader(valid_set, batch_size=32, shuffle=True, num_workers=0)\n",
    "    \n",
    "    return train_loader , valid_loader\n",
    "    \n",
    "def load_test_data(test_npy_path,test_csv_path):\n",
    "    test_df = pd.read_csv(test_csv_path, index_col=0)\n",
    "   \n",
    "    test_set = ECGDataset(test_npy_path, test_df)\n",
    "    test_loader = DataLoader(test_set, batch_size=32, shuffle=True, num_workers=0)\n",
    "    \n",
    "    return test_loader"
   ]
  },
  {
   "cell_type": "code",
   "execution_count": 6,
   "id": "e97a2b71",
   "metadata": {},
   "outputs": [],
   "source": [
    "class Net(nn.Module):\n",
    "    def __init__(self):\n",
    "        super(Net, self).__init__()\n",
    "\n",
    "        self.FC_1 = nn.Linear(150, 128)\n",
    "        self.FC_2 = nn.Linear(128, 64)\n",
    "        self.FC_3 = nn.Linear(64, 32)\n",
    "        self.FC_4 = nn.Linear(32, 64)\n",
    "        self.FC_5 = nn.Linear(64, 128)\n",
    "        self.FC_6 = nn.Linear(128, 150)\n",
    "\n",
    "    def forward(self, x):\n",
    "        x = x.view(-1, 1 * 150)\n",
    "        out = self.FC_1(x)\n",
    "        out = F.relu(out)\n",
    "\n",
    "        out = self.FC_2(out)\n",
    "        out = F.relu(out)\n",
    "\n",
    "        out = self.FC_3(out)\n",
    "        out = F.relu(out)\n",
    "\n",
    "        out = self.FC_4(out)\n",
    "        out = F.relu(out)\n",
    "\n",
    "        out = self.FC_5(out)\n",
    "        out = F.relu(out)\n",
    "\n",
    "        out = self.FC_6(out)\n",
    "\n",
    "\n",
    "        return out\n",
    "        \n",
    "class Net2(nn.Module):\n",
    "    def __init__(self):\n",
    "        super(Net2, self).__init__()\n",
    "\n",
    "        self.FC_1 = nn.Linear(150, 64)\n",
    "        self.FC_2 = nn.Linear(64, 32)\n",
    "        self.FC_3 = nn.Linear(32, 64)\n",
    "        self.FC_4 = nn.Linear(64, 150)\n",
    "\n",
    "\n",
    "    def forward(self, x):\n",
    "        x = x.view(-1, 1 * 150)\n",
    "        out = self.FC_1(x)\n",
    "        out = F.relu(out)\n",
    "\n",
    "        out = self.FC_2(out)\n",
    "        out = F.relu(out)\n",
    "\n",
    "        out = self.FC_3(out)\n",
    "        out = F.relu(out)\n",
    "\n",
    "        out = self.FC_4(out)\n",
    "        return out"
   ]
  },
  {
   "cell_type": "code",
   "execution_count": 7,
   "id": "b06a5fa2",
   "metadata": {},
   "outputs": [],
   "source": [
    "DEVICE = torch.device('cpu')  \n",
    "PATH = \"C:/Users/CSE-220425/Downloads/check_FC01.pt\""
   ]
  },
  {
   "cell_type": "code",
   "execution_count": 11,
   "id": "b1960ea3",
   "metadata": {},
   "outputs": [],
   "source": [
    "npy_path = \"E:/01_AKI_tolopogy/01_AKI_tolopogy/hhj/AE_DATASET/TEST/ECG_AKI_N/\"\n",
    "csv_path = \"E:/01_AKI_tolopogy/01_AKI_tolopogy/hhj/AE_DATASET/TEST/ECG_AKI_N_CSV/\"\n",
    "csv_list = os.listdir(csv_path)"
   ]
  },
  {
   "cell_type": "code",
   "execution_count": 6,
   "id": "202ba0a4",
   "metadata": {},
   "outputs": [
    {
     "data": {
      "text/plain": [
       "Net2(\n",
       "  (FC_1): Linear(in_features=150, out_features=64, bias=True)\n",
       "  (FC_2): Linear(in_features=64, out_features=32, bias=True)\n",
       "  (FC_3): Linear(in_features=32, out_features=64, bias=True)\n",
       "  (FC_4): Linear(in_features=64, out_features=150, bias=True)\n",
       ")"
      ]
     },
     "execution_count": 6,
     "metadata": {},
     "output_type": "execute_result"
    }
   ],
   "source": [
    "AE = Net2().to(DEVICE)\n",
    "# model.load_state_dict(torch.load(PATH, map_location=device))\n",
    "AE.load_state_dict(torch.load(PATH, map_location=DEVICE ))\n",
    "AE.eval()"
   ]
  },
  {
   "cell_type": "code",
   "execution_count": 7,
   "id": "0a071c98",
   "metadata": {},
   "outputs": [],
   "source": [
    "AE_loss = nn.MSELoss()"
   ]
  },
  {
   "cell_type": "code",
   "execution_count": null,
   "id": "c98ffb3b",
   "metadata": {},
   "outputs": [],
   "source": [
    "df = pd.DataFrame()\n",
    "for folder_id in filelist:\n",
    "    test_loss = []\n",
    "    npy_path =\"D:/01_AKI_tolopogy/01_AKI_tolopogy/hhj/CONVAE_DATASET/TRAIN2/TRAIN/\"\n",
    "    csv_path =f\"D:/01_AKI_tolopogy/01_AKI_tolopogy/hhj/CONVAE_DATASET/TEST2/AKI_N/{folder_id}\"\n",
    "    \n",
    "    test_loader = load_test_data(npy_path,csv_path)\n",
    "    for X, _ in test_loader:\n",
    "        X = X.to(DEVICE)\n",
    "        AE_output = AE(X)\n",
    "        test_loss.append(AE_loss(AE_output, X).data)\n",
    "    row = {\"error\":max(test_loss)}\n",
    "    df.append(row,ignore_index=True)"
   ]
  }
 ],
 "metadata": {
  "kernelspec": {
   "display_name": "Python 3",
   "language": "python",
   "name": "python3"
  },
  "language_info": {
   "codemirror_mode": {
    "name": "ipython",
    "version": 3
   },
   "file_extension": ".py",
   "mimetype": "text/x-python",
   "name": "python",
   "nbconvert_exporter": "python",
   "pygments_lexer": "ipython3",
   "version": "3.8.7"
  }
 },
 "nbformat": 4,
 "nbformat_minor": 5
}
